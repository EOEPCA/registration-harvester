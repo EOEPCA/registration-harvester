{
 "cells": [
  {
   "cell_type": "code",
   "execution_count": null,
   "metadata": {},
   "outputs": [],
   "source": [
    "import requests\n",
    "import json\n",
    "from pystac import Collection\n",
    "\n",
    "data_catalog_api_url = \"https://eoapi.apx.develop.eoepca.org/stac\""
   ]
  },
  {
   "cell_type": "markdown",
   "metadata": {},
   "source": [
    "Login to Keycloak to get an Access Token:"
   ]
  },
  {
   "cell_type": "code",
   "execution_count": null,
   "metadata": {},
   "outputs": [],
   "source": [
    "body = {\n",
    "    \"client_id\": \"registration-harvester\",\n",
    "    \"client_secret\": \"Uj1nOvyZ8iFdRN8Iqaik0OkXDS66INU3\",\n",
    "    \"grant_type\": \"client_credentials\",\n",
    "}\n",
    "response = requests.post(\"https://iam-auth.apx.develop.eoepca.org/realms/eoepca/protocol/openid-connect/token\", data=body)\n",
    "#print(json.dumps(response.json(), indent=4))\n",
    "\n",
    "token = response.json().get(\"access_token\")\n",
    "headers = {\n",
    "    \"Authorization\": f\"Bearer {token}\",\n",
    "}\n",
    "print(headers)"
   ]
  },
  {
   "cell_type": "markdown",
   "metadata": {},
   "source": [
    "Try to create the collection in the protected Data Catalog:"
   ]
  },
  {
   "cell_type": "code",
   "execution_count": null,
   "metadata": {},
   "outputs": [],
   "source": [
    "collection_path = \"test_collection.json\"\n",
    "collection = Collection.from_file(collection_path)\n",
    "\n",
    "response = requests.post(data_catalog_api_url + \"/collections\", json=collection.to_dict(), headers=headers)\n",
    "response.raise_for_status()\n",
    "print(json.dumps(response.json(), indent=4))"
   ]
  },
  {
   "cell_type": "markdown",
   "metadata": {},
   "source": [
    "Check collection was created:"
   ]
  },
  {
   "cell_type": "code",
   "execution_count": null,
   "metadata": {},
   "outputs": [],
   "source": [
    "response = requests.get(data_catalog_api_url + \"/collections/landsat-8-l1\")\n",
    "response.raise_for_status()\n",
    "print(json.dumps(response.json(), indent=4))"
   ]
  },
  {
   "cell_type": "markdown",
   "metadata": {},
   "source": [
    "Try to delete the collection:"
   ]
  },
  {
   "cell_type": "code",
   "execution_count": null,
   "metadata": {},
   "outputs": [],
   "source": [
    "response = requests.delete(url=f\"{data_catalog_api_url}/collections/landsat-8-l1\", headers=headers)\n",
    "response.raise_for_status()"
   ]
  }
 ],
 "metadata": {
  "kernelspec": {
   "display_name": ".venv",
   "language": "python",
   "name": "python3"
  },
  "language_info": {
   "codemirror_mode": {
    "name": "ipython",
    "version": 3
   },
   "file_extension": ".py",
   "mimetype": "text/x-python",
   "name": "python",
   "nbconvert_exporter": "python",
   "pygments_lexer": "ipython3",
   "version": "3.12.7"
  }
 },
 "nbformat": 4,
 "nbformat_minor": 2
}
