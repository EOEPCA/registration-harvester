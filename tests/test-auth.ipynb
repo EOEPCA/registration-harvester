{
 "cells": [
  {
   "cell_type": "code",
   "execution_count": null,
   "metadata": {},
   "outputs": [],
   "source": [
    "import datetime\n",
    "import requests\n",
    "import json\n",
    "from pystac import Collection, Extent, SpatialExtent, TemporalExtent\n",
    "\n",
    "data_catalog_api_url = \"https://eoapi.apx.develop.eoepca.org/stac\"\n",
    "collection_id = \"landsat-8-l1\""
   ]
  },
  {
   "cell_type": "markdown",
   "metadata": {},
   "source": [
    "Login to Keycloak to get an Access Token:"
   ]
  },
  {
   "cell_type": "code",
   "execution_count": null,
   "metadata": {},
   "outputs": [],
   "source": [
    "body = {\n",
    "    \"client_id\": \"registration-harvester\",\n",
    "    \"client_secret\": \"Uj1nOvyZ8iFdRN8Iqaik0OkXDS66INU3\",\n",
    "    \"grant_type\": \"client_credentials\",\n",
    "}\n",
    "response = requests.post(\"https://iam-auth.apx.develop.eoepca.org/realms/eoepca/protocol/openid-connect/token\", data=body)\n",
    "#print(json.dumps(response.json(), indent=4))\n",
    "\n",
    "token = response.json().get(\"access_token\")\n",
    "headers = {\n",
    "    \"Authorization\": f\"Bearer {token}\",\n",
    "}\n",
    "print(headers)"
   ]
  },
  {
   "cell_type": "markdown",
   "metadata": {},
   "source": [
    "Try to create the collection in the protected Data Catalog:"
   ]
  },
  {
   "cell_type": "code",
   "execution_count": null,
   "metadata": {},
   "outputs": [],
   "source": [
    "start_date = datetime.datetime(2018, 5, 21, 15, 44, 59)\n",
    "end_date = datetime.datetime(2018, 7, 8, 15, 45, 34)\n",
    "BBOX: list[float] = [-180, -90, 180, 90]\n",
    "collection = Collection(\n",
    "    id=collection_id,\n",
    "    description=\"Landsat 8 imagery\",\n",
    "    extent=Extent(\n",
    "        spatial=SpatialExtent(BBOX),\n",
    "        temporal=TemporalExtent([start_date, end_date]),\n",
    "    ),\n",
    ")\n",
    "\n",
    "response = requests.post(f\"{data_catalog_api_url}/collections\", json=collection.to_dict(), headers=headers)\n",
    "response.raise_for_status()\n",
    "print(response)\n",
    "#print(json.dumps(response.json(), indent=4))"
   ]
  },
  {
   "cell_type": "markdown",
   "metadata": {},
   "source": [
    "Check collection was created:"
   ]
  },
  {
   "cell_type": "code",
   "execution_count": null,
   "metadata": {},
   "outputs": [],
   "source": [
    "response = requests.get(f\"{data_catalog_api_url}/collections/{collection_id}\")\n",
    "response.raise_for_status()\n",
    "print(json.dumps(response.json(), indent=4))"
   ]
  },
  {
   "cell_type": "markdown",
   "metadata": {},
   "source": [
    "Try to delete the collection:"
   ]
  },
  {
   "cell_type": "code",
   "execution_count": null,
   "metadata": {},
   "outputs": [],
   "source": [
    "response = requests.delete(url=f\"{data_catalog_api_url}/collections/{collection_id}\", headers=headers)\n",
    "response.raise_for_status()"
   ]
  }
 ],
 "metadata": {
  "kernelspec": {
   "display_name": ".venv",
   "language": "python",
   "name": "python3"
  },
  "language_info": {
   "codemirror_mode": {
    "name": "ipython",
    "version": 3
   },
   "file_extension": ".py",
   "mimetype": "text/x-python",
   "name": "python",
   "nbconvert_exporter": "python",
   "pygments_lexer": "ipython3",
   "version": "3.12.7"
  }
 },
 "nbformat": 4,
 "nbformat_minor": 2
}
