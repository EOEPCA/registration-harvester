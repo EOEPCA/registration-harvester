{
 "cells": [
  {
   "cell_type": "markdown",
   "metadata": {},
   "source": [
    "# Demo - Landsat Workflow"
   ]
  },
  {
   "cell_type": "code",
   "execution_count": null,
   "metadata": {},
   "outputs": [],
   "source": [
    "from requests import Session\n",
    "from requests.auth import HTTPBasicAuth\n",
    "import json\n",
    "\n",
    "flowable_base_url = \"https://registration-harvester-api.develop.eoepca.org/flowable-rest\"\n",
    "flowable_rest_user = \"eoepca\"\n",
    "flowable_rest_pw = \"eoepca\"\n",
    "requests_ca_bundle = None\n",
    "\n",
    "flowable_session = Session()\n",
    "flowable_session.auth = HTTPBasicAuth(flowable_rest_user, flowable_rest_pw)\n",
    "if requests_ca_bundle is not None:\n",
    "    flowable_session.verify = requests_ca_bundle"
   ]
  },
  {
   "cell_type": "code",
   "execution_count": null,
   "metadata": {},
   "outputs": [],
   "source": [
    "# list processes\n",
    "response = flowable_session.get(url=f\"{flowable_base_url}/service/repository/process-definitions\")\n",
    "processes = response.json()[\"data\"]\n",
    "for idx, process in enumerate(processes, 1):\n",
    "    print(f\"{idx} {process['name']} ({process['id']})\")\n",
    "    if process['name'] == \"Landsat Workflow\":\n",
    "        processId = process[\"id\"]\n",
    "processId"
   ]
  },
  {
   "cell_type": "code",
   "execution_count": null,
   "metadata": {},
   "outputs": [],
   "source": [
    "query = json.dumps({ \"created\": { \"gte\": \"2024-12-13T15:00:00.000000Z\", \"lt\": \"2024-12-13T16:00:00.000000Z\" } })\n",
    "variables = [\n",
    "    # {\"name\": \"collections\", \"type\": \"string\", \"value\": \"landsat-c2l2-sr,landsat-c2l1\"},\n",
    "    {\"name\": \"collections\", \"type\": \"string\", \"value\": \"landsat-c2l2-sr\"},\n",
    "    # {\"name\": \"datetime_interval\", \"type\": \"string\", \"value\": \"2024-11-12T15:00:00.000000Z/2024-11-12T16:00:00.000000Z\"},\n",
    "    {\"name\": \"bbox\", \"type\": \"string\", \"value\": \"8,40,18,60\"},\n",
    "    {\"name\": \"query\", \"type\": \"string\", \"value\": query},\n",
    "]\n",
    "print(json.dumps(variables, indent=4))"
   ]
  },
  {
   "cell_type": "code",
   "execution_count": null,
   "metadata": {},
   "outputs": [],
   "source": [
    "# start workflow\n",
    "body = {}\n",
    "body[\"processDefinitionId\"] = processId\n",
    "body[\"variables\"] = variables\n",
    "response = flowable_session.post(url=f\"{flowable_base_url}/service/runtime/process-instances\", json=body)\n",
    "response\n"
   ]
  }
 ],
 "metadata": {
  "kernelspec": {
   "display_name": ".venv",
   "language": "python",
   "name": "python3"
  },
  "language_info": {
   "codemirror_mode": {
    "name": "ipython",
    "version": 3
   },
   "file_extension": ".py",
   "mimetype": "text/x-python",
   "name": "python",
   "nbconvert_exporter": "python",
   "pygments_lexer": "ipython3",
   "version": "3.12.7"
  }
 },
 "nbformat": 4,
 "nbformat_minor": 2
}
